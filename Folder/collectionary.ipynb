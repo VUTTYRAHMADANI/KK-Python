{
  "nbformat": 4,
  "nbformat_minor": 0,
  "metadata": {
    "colab": {
      "name": "collectionary.ipynb",
      "provenance": [],
      "collapsed_sections": [],
      "authorship_tag": "ABX9TyNJAwV78ZQcr+q/Q/mQywGE",
      "include_colab_link": true
    },
    "kernelspec": {
      "name": "python3",
      "display_name": "Python 3"
    },
    "language_info": {
      "name": "python"
    }
  },
  "cells": [
    {
      "cell_type": "markdown",
      "metadata": {
        "id": "view-in-github",
        "colab_type": "text"
      },
      "source": [
        "<a href=\"https://colab.research.google.com/github/VUTTYRAHMADANI/KK-Python/blob/main/Folder/collectionary.ipynb\" target=\"_parent\"><img src=\"https://colab.research.google.com/assets/colab-badge.svg\" alt=\"Open In Colab\"/></a>"
      ]
    },
    {
      "cell_type": "markdown",
      "metadata": {
        "id": "mCEBS5NSKUQB"
      },
      "source": [
        "list\n"
      ]
    },
    {
      "cell_type": "code",
      "metadata": {
        "colab": {
          "base_uri": "https://localhost:8080/"
        },
        "id": "HQnb3H-KFP2q",
        "outputId": "b308af92-0553-46cf-c04b-dd4a9fd08013"
      },
      "source": [
        "nama = [\"Vutty\"]  # kurung siku\n",
        "\n",
        "print(nama) # print variable list\n",
        "print(type(nama)) # untuk melihat type"
      ],
      "execution_count": 5,
      "outputs": [
        {
          "output_type": "stream",
          "name": "stdout",
          "text": [
            "['Vutty']\n",
            "<class 'list'>\n"
          ]
        }
      ]
    },
    {
      "cell_type": "markdown",
      "metadata": {
        "id": "zg55fJGFKfAv"
      },
      "source": [
        "Duplicate\n",
        "\n",
        "\n"
      ]
    },
    {
      "cell_type": "code",
      "metadata": {
        "colab": {
          "base_uri": "https://localhost:8080/"
        },
        "id": "mu5nF95cKr9-",
        "outputId": "e2cdd95f-cd2e-40e4-f120-041dfb341ac3"
      },
      "source": [
        "nama = [\"Kelvin\",\"Azzura\",\"Fajri\",\"Fajri\"]\n",
        "print(nama)\n"
      ],
      "execution_count": 17,
      "outputs": [
        {
          "output_type": "stream",
          "name": "stdout",
          "text": [
            "['Kelvin', 'Azzura', 'Fajri', 'Fajri']\n"
          ]
        }
      ]
    },
    {
      "cell_type": "markdown",
      "metadata": {
        "id": "0zHpichiLjFK"
      },
      "source": [
        "Index"
      ]
    },
    {
      "cell_type": "code",
      "metadata": {
        "colab": {
          "base_uri": "https://localhost:8080/"
        },
        "id": "zPhu8GBpF9zk",
        "outputId": "ef984ade-75d8-41a9-900e-23bd0ec68d58"
      },
      "source": [
        "print(nama[0])\n",
        "print(nama[1])\n"
      ],
      "execution_count": 18,
      "outputs": [
        {
          "output_type": "stream",
          "name": "stdout",
          "text": [
            "Kelvin\n",
            "Azzura\n"
          ]
        }
      ]
    },
    {
      "cell_type": "markdown",
      "metadata": {
        "id": "vEwiYwUUH1w_"
      },
      "source": [
        "##changeable\n"
      ]
    },
    {
      "cell_type": "markdown",
      "metadata": {
        "id": "BU0M9fSiJtgt"
      },
      "source": [
        "syntax menukar nilai dalam list = list [index] = new_value"
      ]
    },
    {
      "cell_type": "code",
      "metadata": {
        "colab": {
          "base_uri": "https://localhost:8080/"
        },
        "id": "XFneHNPZJ_pW",
        "outputId": "e8cefe3d-9e9f-4594-f203-581054747bcb"
      },
      "source": [
        "nama [0] = \"Citra\"\n",
        "print(nama)"
      ],
      "execution_count": 19,
      "outputs": [
        {
          "output_type": "stream",
          "name": "stdout",
          "text": [
            "['Citra', 'Azzura', 'Fajri', 'Fajri']\n"
          ]
        }
      ]
    },
    {
      "cell_type": "markdown",
      "metadata": {
        "id": "9UNSXBpsM_7W"
      },
      "source": [
        "Multi data type"
      ]
    },
    {
      "cell_type": "code",
      "metadata": {
        "colab": {
          "base_uri": "https://localhost:8080/"
        },
        "id": "F0zcJYQpMBi4",
        "outputId": "a2a2223a-32db-4823-a4b2-d2b85cba6dc7"
      },
      "source": [
        "random = [True,2,'3']\n",
        "print(random)\n",
        "print(type(nama))"
      ],
      "execution_count": 20,
      "outputs": [
        {
          "output_type": "stream",
          "name": "stdout",
          "text": [
            "[True, 2, '3']\n",
            "<class 'list'>\n"
          ]
        }
      ]
    },
    {
      "cell_type": "code",
      "metadata": {
        "id": "lUfdTnB3M8qb"
      },
      "source": [
        "random_dua = [(1,2),[3,4],{'5:lima'},{6}]\n",
        "print(random_dua)\n",
        "\n",
        "for item in random_dua:\n",
        "  "
      ],
      "execution_count": null,
      "outputs": []
    }
  ]
}