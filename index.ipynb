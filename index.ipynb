{
  "nbformat": 4,
  "nbformat_minor": 0,
  "metadata": {
    "colab": {
      "name": "index.ipynb",
      "provenance": [],
      "authorship_tag": "ABX9TyM3FLaluq7gczcZ3wvd0WbV",
      "include_colab_link": true
    },
    "kernelspec": {
      "name": "python3",
      "display_name": "Python 3"
    },
    "language_info": {
      "name": "python"
    }
  },
  "cells": [
    {
      "cell_type": "markdown",
      "metadata": {
        "id": "view-in-github",
        "colab_type": "text"
      },
      "source": [
        "<a href=\"https://colab.research.google.com/github/VUTTYRAHMADANI/KK-Python/blob/main/index.ipynb\" target=\"_parent\"><img src=\"https://colab.research.google.com/assets/colab-badge.svg\" alt=\"Open In Colab\"/></a>"
      ]
    },
    {
      "cell_type": "code",
      "execution_count": 4,
      "metadata": {
        "colab": {
          "base_uri": "https://localhost:8080/",
          "height": 135
        },
        "id": "VaFLRFiEG5H3",
        "outputId": "c49bc9d3-0c9d-4271-d0d1-213d95710eef"
      },
      "outputs": [
        {
          "output_type": "error",
          "ename": "SyntaxError",
          "evalue": "ignored",
          "traceback": [
            "\u001b[0;36m  File \u001b[0;32m\"<ipython-input-4-58b3386edb27>\"\u001b[0;36m, line \u001b[0;32m25\u001b[0m\n\u001b[0;31m    if_name_\"\" '_main_'\u001b[0m\n\u001b[0m             ^\u001b[0m\n\u001b[0;31mSyntaxError\u001b[0m\u001b[0;31m:\u001b[0m invalid syntax\n"
          ]
        }
      ],
      "source": [
        "from typing import List\n",
        "\n",
        "class solution:\n",
        "  def search(self, nums: List[int], target:  int )->int:\n",
        "    \"\"\"Fungsi Binary Search\n",
        "\n",
        "    Args:\n",
        "         nums (List[int]): input berupa list dimana keanggotaannya adalah tipe data int\n",
        "         target (int): Bilangan yang akan dicari\n",
        "\n",
        "    Return:\n",
        "           int: alamat index bilangan\n",
        "\n",
        ">>> sol = solution()\n",
        ">>> print(sol.search([-1,0,3,5,9,12], 9))\n",
        "4\n",
        ">>> print(sol.search([-1,0,3,5,9,12], 2))\n",
        "-1\n",
        "    \"\"\"\n",
        "    if target in nums:\n",
        "      return nums.index(target)\n",
        "    else:\n",
        "      return - 1\n",
        "\n",
        "if_name_\"\" '_main_'\n",
        "   import doctest\n",
        "   doctest.testmod()\n"
      ]
    },
    {
      "cell_type": "code",
      "source": [
        ""
      ],
      "metadata": {
        "id": "cw6ETHiPJwlD"
      },
      "execution_count": null,
      "outputs": []
    }
  ]
}