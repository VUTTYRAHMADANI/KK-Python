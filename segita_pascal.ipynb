{
  "nbformat": 4,
  "nbformat_minor": 0,
  "metadata": {
    "colab": {
      "name": "segita_pascal.ipynb",
      "provenance": [],
      "authorship_tag": "ABX9TyM0lk5gJ0nMlR6k4c0RFy9o",
      "include_colab_link": true
    },
    "kernelspec": {
      "name": "python3",
      "display_name": "Python 3"
    },
    "language_info": {
      "name": "python"
    }
  },
  "cells": [
    {
      "cell_type": "markdown",
      "metadata": {
        "id": "view-in-github",
        "colab_type": "text"
      },
      "source": [
        "<a href=\"https://colab.research.google.com/github/VUTTYRAHMADANI/KK-Python/blob/main/segita_pascal.ipynb\" target=\"_parent\"><img src=\"https://colab.research.google.com/assets/colab-badge.svg\" alt=\"Open In Colab\"/></a>"
      ]
    },
    {
      "cell_type": "code",
      "execution_count": 9,
      "metadata": {
        "colab": {
          "base_uri": "https://localhost:8080/",
          "height": 135
        },
        "id": "r0yIBnV9HDEP",
        "outputId": "c9487b99-2bd2-425e-cac8-1b5e26a56f49"
      },
      "outputs": [
        {
          "output_type": "error",
          "ename": "SyntaxError",
          "evalue": "ignored",
          "traceback": [
            "\u001b[0;36m  File \u001b[0;32m\"<ipython-input-9-96c4174686ff>\"\u001b[0;36m, line \u001b[0;32m18\u001b[0m\n\u001b[0;31m    result = [[1] = (row + 1) for row in range (n)]\u001b[0m\n\u001b[0m                  ^\u001b[0m\n\u001b[0;31mSyntaxError\u001b[0m\u001b[0;31m:\u001b[0m invalid syntax\n"
          ]
        }
      ],
      "source": [
        "def PascalTriangle(n: int) -> Lis[List(int)]:\n",
        "  \"\"\"Fungsi untk mendapatkan segitiga pascal\n",
        "  Args:\n",
        "      n (int): bebrapa baris segitiga pascal\n",
        "  Returns:\n",
        "      List[List(int)]: Segitiga Pascal Dalam Format List\n",
        "\n",
        ">>> print(PascalTriangel(1))\n",
        "[(1)]\n",
        "\n",
        ">>> Print(PascalTriangel(3))\n",
        "[[1], [1,1], [1,2,1]]\n",
        "\n",
        ">>> print(PascalTriangel(5))\n",
        "[[1], [1,1], [1,2,1] , [1,3,3,1], [1,4,6,4,1]]\n",
        "\"\"\"\n",
        "\n",
        "result = [[1] = (row + 1) for row in range (n)]\n",
        "\n",
        "for row in range(n):\n",
        "  for col in range(1,row):\n",
        "    result[row][col] = result[row - 1][col - 1] + result[row - 1][col]\n",
        "return result\n",
        "\n",
        "if_name\"\" \"_main_\":\n",
        "  import doctest\n",
        "\n",
        "  doctest.tesmod()"
      ]
    }
  ]
}